{
 "cells": [
  {
   "cell_type": "markdown",
   "id": "201b3d44",
   "metadata": {},
   "source": [
    "## ASSIH Esso Mèwè Jacques IS"
   ]
  },
  {
   "cell_type": "markdown",
   "id": "7de87437",
   "metadata": {},
   "source": [
    "### Projet IA : Détection Automatique de Genre pour la Carte d'Identité Nationale du Togo"
   ]
  },
  {
   "cell_type": "markdown",
   "id": "ec2dd6b6",
   "metadata": {},
   "source": [
    "#### Étape 1 : Préparation des Données"
   ]
  },
  {
   "cell_type": "markdown",
   "id": "834290a3",
   "metadata": {},
   "source": [
    "Charger le dataset (noms_prenoms.csv) contenant "
   ]
  },
  {
   "cell_type": "code",
   "execution_count": 2,
   "id": "df064b35",
   "metadata": {},
   "outputs": [],
   "source": [
    "import pandas as pd\n",
    "\n",
    "df = pd.read_csv('dataset_names.csv')\n",
    "df['full_name'] = df['lastname'].str.strip() + ' ' + df['firstname'].str.strip()\n",
    "df = df[['full_name', 'gender']]"
   ]
  },
  {
   "cell_type": "markdown",
   "id": "2df4c4e6",
   "metadata": {},
   "source": [
    "Nettoyage des données"
   ]
  },
  {
   "cell_type": "code",
   "execution_count": 3,
   "metadata": {},
   "outputs": [],
   "source": [
    "df.dropna(inplace=True) # Supprimer les valeurs manquantes\n",
    "df['full_name'] = df['full_name'].str.lower().str.strip()  # Uniformiser la casse"
   ]
  },
  {
   "cell_type": "markdown",
   "id": "1c127706",
   "metadata": {},
   "source": [
    "Feature Engineering : Extraction du prénom (dernier mot de full_name)"
   ]
  },
  {
   "cell_type": "code",
   "execution_count": 4,
   "metadata": {},
   "outputs": [],
   "source": [
    "df['prenom'] = df['full_name'].apply(lambda x: x.split()[-1])"
   ]
  },
  {
   "cell_type": "markdown",
   "id": "088e0ef6",
   "metadata": {},
   "source": [
    "Créer des features manuelles telles que"
   ]
  },
  {
   "cell_type": "markdown",
   "id": "4f5effbb",
   "metadata": {},
   "source": [
    "1. Longueur du prénom"
   ]
  },
  {
   "cell_type": "code",
   "execution_count": 5,
   "id": "38206579",
   "metadata": {},
   "outputs": [],
   "source": [
    "df['longueur_prenom'] = df['prenom'].apply(len)"
   ]
  },
  {
   "cell_type": "markdown",
   "id": "93be1dfb",
   "metadata": {},
   "source": [
    "2. Terminaisons fréquentes (ex : 'a', 'e' pour féminin, 'ou', 'd’pour masculin)."
   ]
  },
  {
   "cell_type": "code",
   "execution_count": 6,
   "metadata": {},
   "outputs": [],
   "source": [
    "df['termine_par_a'] = df['prenom'].apply(lambda x: 1 if x.endswith('a') else 0)\n",
    "df['termine_par_e'] = df['prenom'].apply(lambda x: 1 if x.endswith('e') else 0)\n",
    "df['termine_par_ou'] = df['prenom'].apply(lambda x: 1 if x.endswith('ou') else 0)\n",
    "df['termine_par_d'] = df['prenom'].apply(lambda x: 1 if x.endswith('d') else 0)\n"
   ]
  },
  {
   "cell_type": "markdown",
   "id": "d6e4891b",
   "metadata": {},
   "source": [
    "3. Préfixes courants (ex : \"Mohamed\", \"Aïssa\")."
   ]
  },
  {
   "cell_type": "code",
   "execution_count": 7,
   "id": "586512a4",
   "metadata": {},
   "outputs": [],
   "source": [
    "from sklearn.feature_extraction.text import CountVectorizer\n",
    "\n",
    "# Ajout de préfixes courants\n",
    "prefixes_feminins = ['aïssa', 'adjo', 'ama', 'séna', 'afî']\n",
    "prefixes_masculins = ['koffi', 'kouamé', 'mohamed', 'yao', 'komi']\n",
    "\n",
    "df['prefixe_feminin'] = df['prenom'].apply(lambda x: 1 if any(x.startswith(p) for p in prefixes_feminins) else 0)\n",
    "df['prefixe_masculin'] = df['prenom'].apply(lambda x: 1 if any(x.startswith(p) for p in prefixes_masculins) else 0)\n",
    "\n",
    "# Vectorisation des prénoms (n-grammes de caractères)\n",
    "vectorizer = CountVectorizer(analyzer='char', ngram_range=(2, 3))\n",
    "X_ngrams = vectorizer.fit_transform(df['prenom'])\n",
    "ngrams_df = pd.DataFrame(X_ngrams.toarray(), columns=vectorizer.get_feature_names_out())\n",
    "\n",
    "# Concaténation de toutes les features\n",
    "X = pd.concat([df[['longueur_prenom', 'termine_par_a', 'termine_par_e', 'termine_par_ou', \n",
    "                   'termine_par_d', 'prefixe_feminin', 'prefixe_masculin']], ngrams_df], axis=1)\n",
    "y = df['gender']"
   ]
  },
  {
   "cell_type": "markdown",
   "id": "dd6c6100",
   "metadata": {},
   "source": [
    "#### Étape 2 : Séparation des Données"
   ]
  },
  {
   "cell_type": "markdown",
   "id": "09ede0d0",
   "metadata": {},
   "source": [
    "Séparation du dataset en Train/Test (70% / 30%)"
   ]
  },
  {
   "cell_type": "code",
   "execution_count": 8,
   "id": "dbbc7b72",
   "metadata": {},
   "outputs": [
    {
     "name": "stdout",
     "output_type": "stream",
     "text": [
      "Taille jeu d'entraînement : 7000\n",
      "Taille jeu de test : 3000\n",
      "Train set : (7000, 870), Test set : (3000, 870)\n"
     ]
    }
   ],
   "source": [
    "from sklearn.model_selection import train_test_split\n",
    "\n",
    "X_train, X_test, y_train, y_test = train_test_split(X, y, test_size=0.3, random_state=42)\n",
    "\n",
    "print(\"Taille jeu d'entraînement :\", len(X_train))\n",
    "print(\"Taille jeu de test :\", len(X_test))\n",
    "print(f\"Train set : {X_train.shape}, Test set : {X_test.shape}\")"
   ]
  },
  {
   "cell_type": "markdown",
   "id": "9dff2b09",
   "metadata": {},
   "source": [
    "#### Étape 3 : Entraînement du Modèle (Ensemble Learning)"
   ]
  },
  {
   "cell_type": "markdown",
   "id": "4f457450",
   "metadata": {},
   "source": [
    "1. Random Forest et XGBoost \n",
    "2. (Optionnel) Gradient Boosting\n",
    "3. Entraînement des modèles sur le jeu d'entraînement."
   ]
  },
  {
   "cell_type": "code",
   "execution_count": 9,
   "metadata": {},
   "outputs": [
    {
     "data": {
      "text/html": [
       "<style>#sk-container-id-1 {\n",
       "  /* Definition of color scheme common for light and dark mode */\n",
       "  --sklearn-color-text: #000;\n",
       "  --sklearn-color-text-muted: #666;\n",
       "  --sklearn-color-line: gray;\n",
       "  /* Definition of color scheme for unfitted estimators */\n",
       "  --sklearn-color-unfitted-level-0: #fff5e6;\n",
       "  --sklearn-color-unfitted-level-1: #f6e4d2;\n",
       "  --sklearn-color-unfitted-level-2: #ffe0b3;\n",
       "  --sklearn-color-unfitted-level-3: chocolate;\n",
       "  /* Definition of color scheme for fitted estimators */\n",
       "  --sklearn-color-fitted-level-0: #f0f8ff;\n",
       "  --sklearn-color-fitted-level-1: #d4ebff;\n",
       "  --sklearn-color-fitted-level-2: #b3dbfd;\n",
       "  --sklearn-color-fitted-level-3: cornflowerblue;\n",
       "\n",
       "  /* Specific color for light theme */\n",
       "  --sklearn-color-text-on-default-background: var(--sg-text-color, var(--theme-code-foreground, var(--jp-content-font-color1, black)));\n",
       "  --sklearn-color-background: var(--sg-background-color, var(--theme-background, var(--jp-layout-color0, white)));\n",
       "  --sklearn-color-border-box: var(--sg-text-color, var(--theme-code-foreground, var(--jp-content-font-color1, black)));\n",
       "  --sklearn-color-icon: #696969;\n",
       "\n",
       "  @media (prefers-color-scheme: dark) {\n",
       "    /* Redefinition of color scheme for dark theme */\n",
       "    --sklearn-color-text-on-default-background: var(--sg-text-color, var(--theme-code-foreground, var(--jp-content-font-color1, white)));\n",
       "    --sklearn-color-background: var(--sg-background-color, var(--theme-background, var(--jp-layout-color0, #111)));\n",
       "    --sklearn-color-border-box: var(--sg-text-color, var(--theme-code-foreground, var(--jp-content-font-color1, white)));\n",
       "    --sklearn-color-icon: #878787;\n",
       "  }\n",
       "}\n",
       "\n",
       "#sk-container-id-1 {\n",
       "  color: var(--sklearn-color-text);\n",
       "}\n",
       "\n",
       "#sk-container-id-1 pre {\n",
       "  padding: 0;\n",
       "}\n",
       "\n",
       "#sk-container-id-1 input.sk-hidden--visually {\n",
       "  border: 0;\n",
       "  clip: rect(1px 1px 1px 1px);\n",
       "  clip: rect(1px, 1px, 1px, 1px);\n",
       "  height: 1px;\n",
       "  margin: -1px;\n",
       "  overflow: hidden;\n",
       "  padding: 0;\n",
       "  position: absolute;\n",
       "  width: 1px;\n",
       "}\n",
       "\n",
       "#sk-container-id-1 div.sk-dashed-wrapped {\n",
       "  border: 1px dashed var(--sklearn-color-line);\n",
       "  margin: 0 0.4em 0.5em 0.4em;\n",
       "  box-sizing: border-box;\n",
       "  padding-bottom: 0.4em;\n",
       "  background-color: var(--sklearn-color-background);\n",
       "}\n",
       "\n",
       "#sk-container-id-1 div.sk-container {\n",
       "  /* jupyter's `normalize.less` sets `[hidden] { display: none; }`\n",
       "     but bootstrap.min.css set `[hidden] { display: none !important; }`\n",
       "     so we also need the `!important` here to be able to override the\n",
       "     default hidden behavior on the sphinx rendered scikit-learn.org.\n",
       "     See: https://github.com/scikit-learn/scikit-learn/issues/21755 */\n",
       "  display: inline-block !important;\n",
       "  position: relative;\n",
       "}\n",
       "\n",
       "#sk-container-id-1 div.sk-text-repr-fallback {\n",
       "  display: none;\n",
       "}\n",
       "\n",
       "div.sk-parallel-item,\n",
       "div.sk-serial,\n",
       "div.sk-item {\n",
       "  /* draw centered vertical line to link estimators */\n",
       "  background-image: linear-gradient(var(--sklearn-color-text-on-default-background), var(--sklearn-color-text-on-default-background));\n",
       "  background-size: 2px 100%;\n",
       "  background-repeat: no-repeat;\n",
       "  background-position: center center;\n",
       "}\n",
       "\n",
       "/* Parallel-specific style estimator block */\n",
       "\n",
       "#sk-container-id-1 div.sk-parallel-item::after {\n",
       "  content: \"\";\n",
       "  width: 100%;\n",
       "  border-bottom: 2px solid var(--sklearn-color-text-on-default-background);\n",
       "  flex-grow: 1;\n",
       "}\n",
       "\n",
       "#sk-container-id-1 div.sk-parallel {\n",
       "  display: flex;\n",
       "  align-items: stretch;\n",
       "  justify-content: center;\n",
       "  background-color: var(--sklearn-color-background);\n",
       "  position: relative;\n",
       "}\n",
       "\n",
       "#sk-container-id-1 div.sk-parallel-item {\n",
       "  display: flex;\n",
       "  flex-direction: column;\n",
       "}\n",
       "\n",
       "#sk-container-id-1 div.sk-parallel-item:first-child::after {\n",
       "  align-self: flex-end;\n",
       "  width: 50%;\n",
       "}\n",
       "\n",
       "#sk-container-id-1 div.sk-parallel-item:last-child::after {\n",
       "  align-self: flex-start;\n",
       "  width: 50%;\n",
       "}\n",
       "\n",
       "#sk-container-id-1 div.sk-parallel-item:only-child::after {\n",
       "  width: 0;\n",
       "}\n",
       "\n",
       "/* Serial-specific style estimator block */\n",
       "\n",
       "#sk-container-id-1 div.sk-serial {\n",
       "  display: flex;\n",
       "  flex-direction: column;\n",
       "  align-items: center;\n",
       "  background-color: var(--sklearn-color-background);\n",
       "  padding-right: 1em;\n",
       "  padding-left: 1em;\n",
       "}\n",
       "\n",
       "\n",
       "/* Toggleable style: style used for estimator/Pipeline/ColumnTransformer box that is\n",
       "clickable and can be expanded/collapsed.\n",
       "- Pipeline and ColumnTransformer use this feature and define the default style\n",
       "- Estimators will overwrite some part of the style using the `sk-estimator` class\n",
       "*/\n",
       "\n",
       "/* Pipeline and ColumnTransformer style (default) */\n",
       "\n",
       "#sk-container-id-1 div.sk-toggleable {\n",
       "  /* Default theme specific background. It is overwritten whether we have a\n",
       "  specific estimator or a Pipeline/ColumnTransformer */\n",
       "  background-color: var(--sklearn-color-background);\n",
       "}\n",
       "\n",
       "/* Toggleable label */\n",
       "#sk-container-id-1 label.sk-toggleable__label {\n",
       "  cursor: pointer;\n",
       "  display: flex;\n",
       "  width: 100%;\n",
       "  margin-bottom: 0;\n",
       "  padding: 0.5em;\n",
       "  box-sizing: border-box;\n",
       "  text-align: center;\n",
       "  align-items: start;\n",
       "  justify-content: space-between;\n",
       "  gap: 0.5em;\n",
       "}\n",
       "\n",
       "#sk-container-id-1 label.sk-toggleable__label .caption {\n",
       "  font-size: 0.6rem;\n",
       "  font-weight: lighter;\n",
       "  color: var(--sklearn-color-text-muted);\n",
       "}\n",
       "\n",
       "#sk-container-id-1 label.sk-toggleable__label-arrow:before {\n",
       "  /* Arrow on the left of the label */\n",
       "  content: \"▸\";\n",
       "  float: left;\n",
       "  margin-right: 0.25em;\n",
       "  color: var(--sklearn-color-icon);\n",
       "}\n",
       "\n",
       "#sk-container-id-1 label.sk-toggleable__label-arrow:hover:before {\n",
       "  color: var(--sklearn-color-text);\n",
       "}\n",
       "\n",
       "/* Toggleable content - dropdown */\n",
       "\n",
       "#sk-container-id-1 div.sk-toggleable__content {\n",
       "  max-height: 0;\n",
       "  max-width: 0;\n",
       "  overflow: hidden;\n",
       "  text-align: left;\n",
       "  /* unfitted */\n",
       "  background-color: var(--sklearn-color-unfitted-level-0);\n",
       "}\n",
       "\n",
       "#sk-container-id-1 div.sk-toggleable__content.fitted {\n",
       "  /* fitted */\n",
       "  background-color: var(--sklearn-color-fitted-level-0);\n",
       "}\n",
       "\n",
       "#sk-container-id-1 div.sk-toggleable__content pre {\n",
       "  margin: 0.2em;\n",
       "  border-radius: 0.25em;\n",
       "  color: var(--sklearn-color-text);\n",
       "  /* unfitted */\n",
       "  background-color: var(--sklearn-color-unfitted-level-0);\n",
       "}\n",
       "\n",
       "#sk-container-id-1 div.sk-toggleable__content.fitted pre {\n",
       "  /* unfitted */\n",
       "  background-color: var(--sklearn-color-fitted-level-0);\n",
       "}\n",
       "\n",
       "#sk-container-id-1 input.sk-toggleable__control:checked~div.sk-toggleable__content {\n",
       "  /* Expand drop-down */\n",
       "  max-height: 200px;\n",
       "  max-width: 100%;\n",
       "  overflow: auto;\n",
       "}\n",
       "\n",
       "#sk-container-id-1 input.sk-toggleable__control:checked~label.sk-toggleable__label-arrow:before {\n",
       "  content: \"▾\";\n",
       "}\n",
       "\n",
       "/* Pipeline/ColumnTransformer-specific style */\n",
       "\n",
       "#sk-container-id-1 div.sk-label input.sk-toggleable__control:checked~label.sk-toggleable__label {\n",
       "  color: var(--sklearn-color-text);\n",
       "  background-color: var(--sklearn-color-unfitted-level-2);\n",
       "}\n",
       "\n",
       "#sk-container-id-1 div.sk-label.fitted input.sk-toggleable__control:checked~label.sk-toggleable__label {\n",
       "  background-color: var(--sklearn-color-fitted-level-2);\n",
       "}\n",
       "\n",
       "/* Estimator-specific style */\n",
       "\n",
       "/* Colorize estimator box */\n",
       "#sk-container-id-1 div.sk-estimator input.sk-toggleable__control:checked~label.sk-toggleable__label {\n",
       "  /* unfitted */\n",
       "  background-color: var(--sklearn-color-unfitted-level-2);\n",
       "}\n",
       "\n",
       "#sk-container-id-1 div.sk-estimator.fitted input.sk-toggleable__control:checked~label.sk-toggleable__label {\n",
       "  /* fitted */\n",
       "  background-color: var(--sklearn-color-fitted-level-2);\n",
       "}\n",
       "\n",
       "#sk-container-id-1 div.sk-label label.sk-toggleable__label,\n",
       "#sk-container-id-1 div.sk-label label {\n",
       "  /* The background is the default theme color */\n",
       "  color: var(--sklearn-color-text-on-default-background);\n",
       "}\n",
       "\n",
       "/* On hover, darken the color of the background */\n",
       "#sk-container-id-1 div.sk-label:hover label.sk-toggleable__label {\n",
       "  color: var(--sklearn-color-text);\n",
       "  background-color: var(--sklearn-color-unfitted-level-2);\n",
       "}\n",
       "\n",
       "/* Label box, darken color on hover, fitted */\n",
       "#sk-container-id-1 div.sk-label.fitted:hover label.sk-toggleable__label.fitted {\n",
       "  color: var(--sklearn-color-text);\n",
       "  background-color: var(--sklearn-color-fitted-level-2);\n",
       "}\n",
       "\n",
       "/* Estimator label */\n",
       "\n",
       "#sk-container-id-1 div.sk-label label {\n",
       "  font-family: monospace;\n",
       "  font-weight: bold;\n",
       "  display: inline-block;\n",
       "  line-height: 1.2em;\n",
       "}\n",
       "\n",
       "#sk-container-id-1 div.sk-label-container {\n",
       "  text-align: center;\n",
       "}\n",
       "\n",
       "/* Estimator-specific */\n",
       "#sk-container-id-1 div.sk-estimator {\n",
       "  font-family: monospace;\n",
       "  border: 1px dotted var(--sklearn-color-border-box);\n",
       "  border-radius: 0.25em;\n",
       "  box-sizing: border-box;\n",
       "  margin-bottom: 0.5em;\n",
       "  /* unfitted */\n",
       "  background-color: var(--sklearn-color-unfitted-level-0);\n",
       "}\n",
       "\n",
       "#sk-container-id-1 div.sk-estimator.fitted {\n",
       "  /* fitted */\n",
       "  background-color: var(--sklearn-color-fitted-level-0);\n",
       "}\n",
       "\n",
       "/* on hover */\n",
       "#sk-container-id-1 div.sk-estimator:hover {\n",
       "  /* unfitted */\n",
       "  background-color: var(--sklearn-color-unfitted-level-2);\n",
       "}\n",
       "\n",
       "#sk-container-id-1 div.sk-estimator.fitted:hover {\n",
       "  /* fitted */\n",
       "  background-color: var(--sklearn-color-fitted-level-2);\n",
       "}\n",
       "\n",
       "/* Specification for estimator info (e.g. \"i\" and \"?\") */\n",
       "\n",
       "/* Common style for \"i\" and \"?\" */\n",
       "\n",
       ".sk-estimator-doc-link,\n",
       "a:link.sk-estimator-doc-link,\n",
       "a:visited.sk-estimator-doc-link {\n",
       "  float: right;\n",
       "  font-size: smaller;\n",
       "  line-height: 1em;\n",
       "  font-family: monospace;\n",
       "  background-color: var(--sklearn-color-background);\n",
       "  border-radius: 1em;\n",
       "  height: 1em;\n",
       "  width: 1em;\n",
       "  text-decoration: none !important;\n",
       "  margin-left: 0.5em;\n",
       "  text-align: center;\n",
       "  /* unfitted */\n",
       "  border: var(--sklearn-color-unfitted-level-1) 1pt solid;\n",
       "  color: var(--sklearn-color-unfitted-level-1);\n",
       "}\n",
       "\n",
       ".sk-estimator-doc-link.fitted,\n",
       "a:link.sk-estimator-doc-link.fitted,\n",
       "a:visited.sk-estimator-doc-link.fitted {\n",
       "  /* fitted */\n",
       "  border: var(--sklearn-color-fitted-level-1) 1pt solid;\n",
       "  color: var(--sklearn-color-fitted-level-1);\n",
       "}\n",
       "\n",
       "/* On hover */\n",
       "div.sk-estimator:hover .sk-estimator-doc-link:hover,\n",
       ".sk-estimator-doc-link:hover,\n",
       "div.sk-label-container:hover .sk-estimator-doc-link:hover,\n",
       ".sk-estimator-doc-link:hover {\n",
       "  /* unfitted */\n",
       "  background-color: var(--sklearn-color-unfitted-level-3);\n",
       "  color: var(--sklearn-color-background);\n",
       "  text-decoration: none;\n",
       "}\n",
       "\n",
       "div.sk-estimator.fitted:hover .sk-estimator-doc-link.fitted:hover,\n",
       ".sk-estimator-doc-link.fitted:hover,\n",
       "div.sk-label-container:hover .sk-estimator-doc-link.fitted:hover,\n",
       ".sk-estimator-doc-link.fitted:hover {\n",
       "  /* fitted */\n",
       "  background-color: var(--sklearn-color-fitted-level-3);\n",
       "  color: var(--sklearn-color-background);\n",
       "  text-decoration: none;\n",
       "}\n",
       "\n",
       "/* Span, style for the box shown on hovering the info icon */\n",
       ".sk-estimator-doc-link span {\n",
       "  display: none;\n",
       "  z-index: 9999;\n",
       "  position: relative;\n",
       "  font-weight: normal;\n",
       "  right: .2ex;\n",
       "  padding: .5ex;\n",
       "  margin: .5ex;\n",
       "  width: min-content;\n",
       "  min-width: 20ex;\n",
       "  max-width: 50ex;\n",
       "  color: var(--sklearn-color-text);\n",
       "  box-shadow: 2pt 2pt 4pt #999;\n",
       "  /* unfitted */\n",
       "  background: var(--sklearn-color-unfitted-level-0);\n",
       "  border: .5pt solid var(--sklearn-color-unfitted-level-3);\n",
       "}\n",
       "\n",
       ".sk-estimator-doc-link.fitted span {\n",
       "  /* fitted */\n",
       "  background: var(--sklearn-color-fitted-level-0);\n",
       "  border: var(--sklearn-color-fitted-level-3);\n",
       "}\n",
       "\n",
       ".sk-estimator-doc-link:hover span {\n",
       "  display: block;\n",
       "}\n",
       "\n",
       "/* \"?\"-specific style due to the `<a>` HTML tag */\n",
       "\n",
       "#sk-container-id-1 a.estimator_doc_link {\n",
       "  float: right;\n",
       "  font-size: 1rem;\n",
       "  line-height: 1em;\n",
       "  font-family: monospace;\n",
       "  background-color: var(--sklearn-color-background);\n",
       "  border-radius: 1rem;\n",
       "  height: 1rem;\n",
       "  width: 1rem;\n",
       "  text-decoration: none;\n",
       "  /* unfitted */\n",
       "  color: var(--sklearn-color-unfitted-level-1);\n",
       "  border: var(--sklearn-color-unfitted-level-1) 1pt solid;\n",
       "}\n",
       "\n",
       "#sk-container-id-1 a.estimator_doc_link.fitted {\n",
       "  /* fitted */\n",
       "  border: var(--sklearn-color-fitted-level-1) 1pt solid;\n",
       "  color: var(--sklearn-color-fitted-level-1);\n",
       "}\n",
       "\n",
       "/* On hover */\n",
       "#sk-container-id-1 a.estimator_doc_link:hover {\n",
       "  /* unfitted */\n",
       "  background-color: var(--sklearn-color-unfitted-level-3);\n",
       "  color: var(--sklearn-color-background);\n",
       "  text-decoration: none;\n",
       "}\n",
       "\n",
       "#sk-container-id-1 a.estimator_doc_link.fitted:hover {\n",
       "  /* fitted */\n",
       "  background-color: var(--sklearn-color-fitted-level-3);\n",
       "}\n",
       "</style><div id=\"sk-container-id-1\" class=\"sk-top-container\"><div class=\"sk-text-repr-fallback\"><pre>XGBClassifier(base_score=None, booster=None, callbacks=None,\n",
       "              colsample_bylevel=None, colsample_bynode=None,\n",
       "              colsample_bytree=None, device=None, early_stopping_rounds=None,\n",
       "              enable_categorical=False, eval_metric=None, feature_types=None,\n",
       "              feature_weights=None, gamma=None, grow_policy=None,\n",
       "              importance_type=None, interaction_constraints=None,\n",
       "              learning_rate=None, max_bin=None, max_cat_threshold=None,\n",
       "              max_cat_to_onehot=None, max_delta_step=None, max_depth=None,\n",
       "              max_leaves=None, min_child_weight=None, missing=nan,\n",
       "              monotone_constraints=None, multi_strategy=None, n_estimators=None,\n",
       "              n_jobs=None, num_parallel_tree=None, ...)</pre><b>In a Jupyter environment, please rerun this cell to show the HTML representation or trust the notebook. <br />On GitHub, the HTML representation is unable to render, please try loading this page with nbviewer.org.</b></div><div class=\"sk-container\" hidden><div class=\"sk-item\"><div class=\"sk-estimator fitted sk-toggleable\"><input class=\"sk-toggleable__control sk-hidden--visually\" id=\"sk-estimator-id-1\" type=\"checkbox\" checked><label for=\"sk-estimator-id-1\" class=\"sk-toggleable__label fitted sk-toggleable__label-arrow\"><div><div>XGBClassifier</div></div><div><a class=\"sk-estimator-doc-link fitted\" rel=\"noreferrer\" target=\"_blank\" href=\"https://xgboost.readthedocs.io/en/release_3.0.0/python/python_api.html#xgboost.XGBClassifier\">?<span>Documentation for XGBClassifier</span></a><span class=\"sk-estimator-doc-link fitted\">i<span>Fitted</span></span></div></label><div class=\"sk-toggleable__content fitted\"><pre>XGBClassifier(base_score=None, booster=None, callbacks=None,\n",
       "              colsample_bylevel=None, colsample_bynode=None,\n",
       "              colsample_bytree=None, device=None, early_stopping_rounds=None,\n",
       "              enable_categorical=False, eval_metric=None, feature_types=None,\n",
       "              feature_weights=None, gamma=None, grow_policy=None,\n",
       "              importance_type=None, interaction_constraints=None,\n",
       "              learning_rate=None, max_bin=None, max_cat_threshold=None,\n",
       "              max_cat_to_onehot=None, max_delta_step=None, max_depth=None,\n",
       "              max_leaves=None, min_child_weight=None, missing=nan,\n",
       "              monotone_constraints=None, multi_strategy=None, n_estimators=None,\n",
       "              n_jobs=None, num_parallel_tree=None, ...)</pre></div> </div></div></div></div>"
      ],
      "text/plain": [
       "XGBClassifier(base_score=None, booster=None, callbacks=None,\n",
       "              colsample_bylevel=None, colsample_bynode=None,\n",
       "              colsample_bytree=None, device=None, early_stopping_rounds=None,\n",
       "              enable_categorical=False, eval_metric=None, feature_types=None,\n",
       "              feature_weights=None, gamma=None, grow_policy=None,\n",
       "              importance_type=None, interaction_constraints=None,\n",
       "              learning_rate=None, max_bin=None, max_cat_threshold=None,\n",
       "              max_cat_to_onehot=None, max_delta_step=None, max_depth=None,\n",
       "              max_leaves=None, min_child_weight=None, missing=nan,\n",
       "              monotone_constraints=None, multi_strategy=None, n_estimators=None,\n",
       "              n_jobs=None, num_parallel_tree=None, ...)"
      ]
     },
     "execution_count": 9,
     "metadata": {},
     "output_type": "execute_result"
    }
   ],
   "source": [
    "from sklearn.ensemble import GradientBoostingClassifier\n",
    "from sklearn.ensemble import RandomForestClassifier\n",
    "from xgboost import XGBClassifier\n",
    "\n",
    "# Initialisation des modèles : Random Forest et XGBoost\n",
    "rf = RandomForestClassifier(random_state=42)\n",
    "xgb = XGBClassifier(random_state=42)\n",
    "\n",
    "\n",
    "# Option Gradient Boosting\n",
    "from sklearn.ensemble import GradientBoostingClassifier\n",
    "gb = GradientBoostingClassifier(random_state=42)\n",
    "gb.fit(X_train, y_train)\n",
    "\n",
    "\n",
    "# Entraînement des modèles\n",
    "rf.fit(X_train, y_train)\n",
    "xgb.fit(X_train, y_train)"
   ]
  },
  {
   "cell_type": "markdown",
   "id": "5d9d2ab4",
   "metadata": {},
   "source": [
    "#### Étape 4 : Évaluation des Performances"
   ]
  },
  {
   "cell_type": "markdown",
   "id": "714ac3c6",
   "metadata": {},
   "source": [
    "Calcul des métriques sur le jeu de test"
   ]
  },
  {
   "cell_type": "markdown",
   "id": "f53c3ce0",
   "metadata": {},
   "source": [
    "- Accuracy\n",
    "- Precision\n",
    "- Recall\n",
    "- F1-Score.\n",
    "- Comparaison des performances des différents modèles."
   ]
  },
  {
   "cell_type": "code",
   "execution_count": 10,
   "metadata": {},
   "outputs": [
    {
     "name": "stdout",
     "output_type": "stream",
     "text": [
      "Random Forest Metrics: {'accuracy': 1.0, 'precision': 1.0, 'recall': 1.0, 'f1': 1.0}\n",
      "XGBoost Metrics: {'accuracy': 1.0, 'precision': 1.0, 'recall': 1.0, 'f1': 1.0}\n"
     ]
    }
   ],
   "source": [
    "from sklearn.metrics import accuracy_score, precision_score, recall_score, f1_score\n",
    "\n",
    "def evaluate_model(model, X_test, y_test):\n",
    "    y_pred = model.predict(X_test)\n",
    "    return {\n",
    "        'accuracy': accuracy_score(y_test, y_pred),\n",
    "        'precision': precision_score(y_test, y_pred), \n",
    "        'recall': recall_score(y_test, y_pred),\n",
    "        'f1': f1_score(y_test, y_pred)\n",
    "    }\n",
    "\n",
    "# Comparaison des performances des deux modèles\n",
    "rf_metrics = evaluate_model(rf, X_test, y_test)  # Random Forest\n",
    "xgb_metrics = evaluate_model(xgb, X_test, y_test)  # XGBoost\n",
    "\n",
    "print(\"Random Forest Metrics:\", rf_metrics) \n",
    "print(\"XGBoost Metrics:\", xgb_metrics)"
   ]
  },
  {
   "cell_type": "markdown",
   "id": "fa7ddcce",
   "metadata": {},
   "source": [
    "#### Étape 5 : Optimisation (Bonus)"
   ]
  },
  {
   "cell_type": "markdown",
   "id": "5e552c7c",
   "metadata": {},
   "source": [
    "1. Hyperparamétrage avec GridSearchCV pour optimiser les paramètres."
   ]
  },
  {
   "cell_type": "code",
   "execution_count": 11,
   "metadata": {},
   "outputs": [
    {
     "name": "stdout",
     "output_type": "stream",
     "text": [
      "Optimized Random Forest Metrics: {'accuracy': 1.0, 'precision': 1.0, 'recall': 1.0, 'f1': 1.0}\n",
      "Optimized XGBoost Metrics: {'accuracy': 1.0, 'precision': 1.0, 'recall': 1.0, 'f1': 1.0}\n"
     ]
    }
   ],
   "source": [
    "from sklearn.model_selection import GridSearchCV\n",
    "\n",
    "param_grid_rf = {\n",
    "    'n_estimators': [100, 200, 300],  # Test de différentes valeurs pour n_estimators\n",
    "    'max_depth': [None, 10, 20],      # Test de différentes profondeurs max\n",
    "    'min_samples_split': [2, 5]       # Test de différents seuils de split\n",
    "}\n",
    "\n",
    "grid_search_rf = GridSearchCV(rf, param_grid_rf, cv=5, scoring='f1')\n",
    "grid_search_rf.fit(X_train, y_train)\n",
    "best_rf = grid_search_rf.best_estimator_ \n",
    "\n",
    "param_grid_xgb = {\n",
    "    'n_estimators': [100, 200],       # Test de différentes valeurs\n",
    "    'max_depth': [3, 6, 9],           # Test de différentes profondeurs\n",
    "    'learning_rate': [0.01, 0.1]      # Test de différents taux d'apprentissage\n",
    "}\n",
    "\n",
    "grid_search_xgb = GridSearchCV(xgb, param_grid_xgb, cv=5, scoring='f1')\n",
    "grid_search_xgb.fit(X_train, y_train)\n",
    "best_xgb = grid_search_xgb.best_estimator_ \n",
    "\n",
    "best_rf_metrics = evaluate_model(best_rf, X_test, y_test)\n",
    "best_xgb_metrics = evaluate_model(best_xgb, X_test, y_test)\n",
    "\n",
    "print(\"Optimized Random Forest Metrics:\", best_rf_metrics)\n",
    "print(\"Optimized XGBoost Metrics:\", best_xgb_metrics)"
   ]
  },
  {
   "cell_type": "markdown",
   "id": "d29453c0",
   "metadata": {},
   "source": [
    "2. Feature Importance : Identification des features qui influencent le plus la prédiction."
   ]
  },
  {
   "cell_type": "code",
   "execution_count": 12,
   "id": "38c922bf",
   "metadata": {},
   "outputs": [
    {
     "name": "stdout",
     "output_type": "stream",
     "text": [
      "Top 10 Features par Importance:\n",
      "             feature  importance\n",
      "2      termine_par_e    0.091203\n",
      "1      termine_par_a    0.056288\n",
      "312               ia    0.022150\n",
      "500               ne    0.021995\n",
      "353              ine    0.019293\n",
      "0    longueur_prenom    0.017586\n",
      "423               le    0.016247\n",
      "397               ko    0.011491\n",
      "663               sa    0.008437\n",
      "699               su    0.008398\n"
     ]
    }
   ],
   "source": [
    "rf_importances = pd.DataFrame({\n",
    "    'feature': X.columns,\n",
    "    'importance': best_rf.feature_importances_ \n",
    "}).sort_values('importance', ascending=False)\n",
    "\n",
    "print(\"Top 10 Features par Importance:\")\n",
    "print(rf_importances.head(10))"
   ]
  },
  {
   "cell_type": "markdown",
   "id": "c10f8117",
   "metadata": {},
   "source": [
    "- Visualisation des Top 20 Features + Interprétation"
   ]
  },
  {
   "cell_type": "code",
   "execution_count": 13,
   "metadata": {},
   "outputs": [
    {
     "data": {
      "image/png": "[encoded data removed]",
      "text/plain": [
       "<Figure size 1000x800 with 1 Axes>"
      ]
     },
     "metadata": {},
     "output_type": "display_data"
    },
    {
     "name": "stdout",
     "output_type": "stream",
     "text": [
      "\n",
      "    Analyse pour Random Forest:\n",
      "    Les features les plus importantes sont termine_par_e (la plus influente), \n",
      "    suivie par termine_par_a et ia.\n",
      "    On observe que les terminaisons de prénoms et les préfixes semblent particulièrement discriminants. \n"
     ]
    },
    {
     "data": {
      "image/png": "[encoded data removed]",
      "text/plain": [
       "<Figure size 1000x800 with 1 Axes>"
      ]
     },
     "metadata": {},
     "output_type": "display_data"
    },
    {
     "name": "stdout",
     "output_type": "stream",
     "text": [
      "\n",
      "    Analyse pour XGBoost:\n",
      "    Les features les plus importantes sont termine_par_a (la plus influente), \n",
      "    suivie par termine_par_e et ga.\n",
      "    On observe que les terminaisons de prénoms et les préfixes semblent particulièrement discriminants. \n",
      "\n",
      "Comparaison globale:\n",
      "Les deux modèles s'accordent généralement sur l'importance des motifs de caractères (n-grams)\n",
      "mais diffèrent sur l'importance relative des features manuelles (comme la longueur du prénom).\n",
      "Cette analyse peut guider la sélection de features pour de futurs modèles.\n"
     ]
    }
   ],
   "source": [
    "import matplotlib.pyplot as plt\n",
    "\n",
    "def plot_top_features(importances, features, model_name, color):\n",
    "\n",
    "    sorted_idx = importances.argsort()[-20:]  # Top 20 features seulement\n",
    "    plt.figure(figsize=(10, 8))\n",
    "    plt.barh(range(len(sorted_idx)), importances[sorted_idx], color=color, align='center')\n",
    "    plt.yticks(range(len(sorted_idx)), features[sorted_idx])\n",
    "    plt.title(f\"Top 20 Features Importance - {model_name}\", pad=20)\n",
    "    plt.xlabel(\"Importance Score\")\n",
    "    plt.grid(axis='x', alpha=0.3)\n",
    "    plt.tight_layout()\n",
    "\n",
    "    plt.show()\n",
    "    print(f\"\"\"\n",
    "    Analyse pour {model_name}:\n",
    "    Les features les plus importantes sont {features[sorted_idx[-1]]} (la plus influente), \n",
    "    suivie par {features[sorted_idx[-2]]} et {features[sorted_idx[-3]]}.\n",
    "    On observe que les terminaisons de prénoms et les préfixes semblent particulièrement discriminants. \"\"\")\n",
    "\n",
    "plot_top_features(best_rf.feature_importances_, X.columns, \"Random Forest\", 'skyblue')\n",
    "plot_top_features(best_xgb.feature_importances_, X.columns, \"XGBoost\", 'salmon')\n",
    "\n",
    "# Comparaison\n",
    "print(\"\"\"\n",
    "Comparaison globale:\n",
    "Les deux modèles s'accordent généralement sur l'importance des motifs de caractères (n-grams)\n",
    "mais diffèrent sur l'importance relative des features manuelles (comme la longueur du prénom).\n",
    "Cette analyse peut guider la sélection de features pour de futurs modèles.\"\"\")\n"
   ]
  },
  {
   "cell_type": "markdown",
   "id": "f38e2db5",
   "metadata": {},
   "source": [
    "#### Étape 6 : Prédiction sur de Nouvelles Données"
   ]
  },
  {
   "cell_type": "markdown",
   "id": "bff8cf43",
   "metadata": {},
   "source": [
    "Une fonction predict_gender(nom_et_prenom) qui retourne :\n",
    "- 0 si le modèle prédit Femme.\n",
    "- 1 si le modèle prédit Homme."
   ]
  },
  {
   "cell_type": "code",
   "execution_count": 14,
   "id": "a3707d7f",
   "metadata": {},
   "outputs": [],
   "source": [
    "def predict_gender(nom_et_prenom):\n",
    "\n",
    "    try:\n",
    "        nom_complet = str(nom_et_prenom).strip()\n",
    "        prenom = nom_complet.split()[-1].lower()\n",
    "\n",
    "        features = {\n",
    "            'longueur_prenom': len(prenom),\n",
    "            'termine_par_a': int(prenom.endswith('a')),\n",
    "            'termine_par_e': int(prenom.endswith('e')),\n",
    "            'termine_par_ou': int(prenom.endswith('ou')),\n",
    "            'termine_par_d': int(prenom.endswith('d')),\n",
    "            'prefixe_feminin': int(any(prenom.startswith(p) for p in prefixes_feminins)),\n",
    "            'prefixe_masculin': int(any(prenom.startswith(p) for p in prefixes_masculins))\n",
    "        }\n",
    "        ngrams = vectorizer.transform([prenom]).toarray()\n",
    "        ngrams_df = pd.DataFrame(ngrams, columns=vectorizer.get_feature_names_out())\n",
    "        \n",
    "        features_df = pd.DataFrame([features])\n",
    "        full_features = pd.concat([features_df, ngrams_df], axis=1)\n",
    "        full_features = full_features.reindex(columns=X.columns, fill_value=0)\n",
    "        \n",
    "        proba = best_xgb.predict_proba(full_features)[0]\n",
    "        prediction = best_xgb.predict(full_features)[0]\n",
    "        \n",
    "        confiance = max(proba) * 100\n",
    "        genre = \"Homme\" if prediction == 1 else \"Femme\"\n",
    "        \n",
    "        return f\"{nom_complet} -> {prediction} ({genre}) [Confiance: {confiance:.1f}%]\"\n",
    "        \n",
    "    except Exception as e:\n",
    "        return f\"{nom_complet} -> Erreur: {str(e)}\"\n",
    "    "
   ]
  },
  {
   "cell_type": "markdown",
   "id": "112cf949",
   "metadata": {},
   "source": [
    "- Test avec quelques noms et prenoms"
   ]
  },
  {
   "cell_type": "code",
   "execution_count": 16,
   "id": "38a29941",
   "metadata": {},
   "outputs": [
    {
     "name": "stdout",
     "output_type": "stream",
     "text": [
      "KOKOU Ama -> 0 (Femme) [Confiance: 90.6%]\n",
      "AKAKPO Juliette -> 0 (Femme) [Confiance: 94.4%]\n",
      "DOUTI Ama -> 0 (Femme) [Confiance: 90.6%]\n",
      "MENSAH Dové -> 1 (Homme) [Confiance: 97.3%]\n",
      "KOKOU Mawuli -> 1 (Homme) [Confiance: 94.3%]\n",
      "MAWUSSI Afi -> 0 (Femme) [Confiance: 84.9%]\n",
      "YAOVI Gédéon -> 1 (Homme) [Confiance: 90.7%]\n",
      "TCHALLA Jenifere -> 0 (Femme) [Confiance: 84.4%]\n",
      "KODJO Merveille -> 0 (Femme) [Confiance: 95.0%]\n",
      "SENA Helene -> 0 (Femme) [Confiance: 99.0%]\n",
      "ROCK Koffi -> 1 (Homme) [Confiance: 95.6%]\n",
      "KOSSIWA Ama -> 0 (Femme) [Confiance: 90.6%]\n",
      "DOGBO Ruth -> 1 (Homme) [Confiance: 90.3%]\n"
     ]
    }
   ],
   "source": [
    "print(predict_gender(\"KOKOU Ama\"))\n",
    "print(predict_gender(\"AKAKPO Juliette\"))\n",
    "\n",
    "print(predict_gender(\"DOUTI Ama\"))\n",
    "print(predict_gender(\"MENSAH Dové\"))\n",
    "\n",
    "print(predict_gender(\"KOKOU Mawuli\"))\n",
    "print(predict_gender(\"MAWUSSI Afi\"))\n",
    "\n",
    "print(predict_gender(\"YAOVI Gédéon\"))\n",
    "print(predict_gender(\"TCHALLA Jenifere\"))\n",
    "\n",
    "print(predict_gender(\"KODJO Merveille\"))\n",
    "print(predict_gender(\"SENA Helene\"))\n",
    "\n",
    "print(predict_gender(\"ROCK Koffi\"))\n",
    "print(predict_gender(\"KOSSIWA Ama\"))\n",
    "\n",
    "print(predict_gender(\"DOGBO Ruth\"))"
   ]
  },
  {
   "cell_type": "code",
   "execution_count": null,
   "id": "5e692205",
   "metadata": {},
   "outputs": [],
   "source": []
  }
 ],
 "metadata": {
  "kernelspec": {
   "display_name": "Python 3",
   "language": "python",
   "name": "python3"
  },
  "language_info": {
   "codemirror_mode": {
    "name": "ipython",
    "version": 3
   },
   "file_extension": ".py",
   "mimetype": "text/x-python",
   "name": "python",
   "nbconvert_exporter": "python",
   "pygments_lexer": "ipython3",
   "version": "3.12.9"
  }
 },
 "nbformat": 4,
 "nbformat_minor": 5
}
